{
 "cells": [
  {
   "cell_type": "code",
   "execution_count": null,
   "id": "9787f664-951d-4a7f-9113-5792a0ea0f55",
   "metadata": {},
   "outputs": [],
   "source": [
    "def fibonnaci(n: Int) -> Int:\n",
    "    if(n <= 1):\n",
    "        return n\n",
    "    return fibonnaci(n - 1) + fibonnaci(n - 2)"
   ]
  },
  {
   "cell_type": "code",
   "execution_count": null,
   "id": "1de49d36-4c20-455c-b06a-7af4a0889e6e",
   "metadata": {},
   "outputs": [],
   "source": [
    "print(fibonnaci(20))"
   ]
  },
  {
   "cell_type": "code",
   "execution_count": null,
   "id": "0b006905-8431-495e-9f86-8078c87e639e",
   "metadata": {},
   "outputs": [],
   "source": [
    "from PythonInterface import Python\n",
    "\n",
    "let time = Python.import_module(\"time\")\n",
    "let initial_time = time.time()\n",
    "fibonnaci(45)\n",
    "print(time.time() - initial_time)"
   ]
  },
  {
   "cell_type": "code",
   "execution_count": null,
   "id": "0e937924-4577-4d83-ac47-812358bd1557",
   "metadata": {},
   "outputs": [],
   "source": [
    "%%python\n",
    "def fibonnaci(n):\n",
    "    if(n <= 1):\n",
    "        return n\n",
    "    return fibonnaci(n - 1) + fibonnaci(n - 2)"
   ]
  },
  {
   "cell_type": "code",
   "execution_count": null,
   "id": "de0be50f-7320-4823-92a1-f3d1fb5ee8a2",
   "metadata": {},
   "outputs": [],
   "source": [
    "%%python\n",
    "import time\n",
    "\n",
    "initial_time = time.time()\n",
    "fibonnaci(45)\n",
    "print(time.time() - initial_time)"
   ]
  },
  {
   "cell_type": "markdown",
   "id": "9bf9c212-5e43-4bb9-b38e-5dc0c7524ad2",
   "metadata": {},
   "source": [
    "# With Memoization"
   ]
  },
  {
   "cell_type": "code",
   "execution_count": null,
   "id": "2a6509b4-052a-4364-9efc-267578a452d2",
   "metadata": {},
   "outputs": [],
   "source": [
    "%%python\n",
    "memo = {}\n",
    "def fibonnaci(n):\n",
    "    if(n <= 1):\n",
    "        return n\n",
    "    if n not in memo:\n",
    "        memo[n] = fibonnaci(n - 1) + fibonnaci(n - 2)\n",
    "    return memo[n]"
   ]
  },
  {
   "cell_type": "code",
   "execution_count": null,
   "id": "6d4862ca-82f4-4d41-a193-168777819482",
   "metadata": {},
   "outputs": [],
   "source": [
    "%%python\n",
    "import time\n",
    "\n",
    "initial_time = time.time()\n",
    "fibonnaci(150)\n",
    "print(time.time() - initial_time)\n",
    "print(memo)"
   ]
  },
  {
   "cell_type": "code",
   "execution_count": null,
   "id": "c6e8d979-0b77-499f-ba61-7718775b62eb",
   "metadata": {},
   "outputs": [],
   "source": [
    "from PythonInterface import PythonDictionary\n",
    "from PythonObject import PythonObject\n",
    "\n",
    "def fibonnaci(n:Int, memo:PythonDictionary) -> Int:\n",
    "    if(n <= 1):\n",
    "        return n\n",
    "    \n",
    "    if memo.get(n) == None:\n",
    "        memo[n] = fibonnaci(n - 1, memo) + fibonnaci(n - 2, memo)\n",
    "\n",
    "    return memo.get(n).to_index()"
   ]
  },
  {
   "cell_type": "code",
   "execution_count": null,
   "id": "c625aadb-8ffd-4273-8ba5-434ca674ce9f",
   "metadata": {},
   "outputs": [],
   "source": [
    "from PythonInterface import Python\n",
    "\n",
    "var memo :PythonDictionary = Python.dict()\n",
    "\n",
    "print(fibonnaci(10, memo))"
   ]
  },
  {
   "cell_type": "code",
   "execution_count": null,
   "id": "2d8a6e06-f119-4202-8434-4e6b1b61ddf0",
   "metadata": {},
   "outputs": [],
   "source": [
    "let time = Python.import_module(\"time\")\n",
    "let initial_time = time.time()\n",
    "fibonnaci(45,memo)\n",
    "print(time.time() - initial_time)"
   ]
  }
 ],
 "metadata": {
  "kernelspec": {
   "display_name": "Python 3 (ipykernel)",
   "language": "python",
   "name": "python3"
  },
  "language_info": {
   "codemirror_mode": {
    "name": "ipython",
    "version": 3
   },
   "file_extension": ".py",
   "mimetype": "text/x-python",
   "name": "python",
   "nbconvert_exporter": "python",
   "pygments_lexer": "ipython3",
   "version": "3.9.13"
  }
 },
 "nbformat": 4,
 "nbformat_minor": 5
}
